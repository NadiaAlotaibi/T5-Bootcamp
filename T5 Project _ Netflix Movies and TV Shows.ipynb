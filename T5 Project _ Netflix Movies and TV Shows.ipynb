{
 "cells": [
  {
   "cell_type": "markdown",
   "id": "dc802cca",
   "metadata": {},
   "source": [
    "# Netflix Movies and TV Shows"
   ]
  },
  {
   "cell_type": "markdown",
   "id": "6bac96c6",
   "metadata": {},
   "source": [
    "Netflix is one of the most popular media and video streaming platforms. They have over 8000 movies or tv shows available on their platform, as of mid-2021, they have over 200M Subscribers globally. \n",
    "\n",
    "The main purpose of this project is to analyze and see the comparison between the total number of movies and shows and which one is the majority."
   ]
  },
  {
   "cell_type": "markdown",
   "id": "9b2c68df",
   "metadata": {},
   "source": [
    "### What I am aiming to in this project is to predict what will Netflix focus on movies or tv shows in the future by using the classification model "
   ]
  },
  {
   "cell_type": "markdown",
   "id": "6b5c60cd",
   "metadata": {},
   "source": [
    "# Import libraries\n"
   ]
  },
  {
   "cell_type": "code",
   "execution_count": 1,
   "id": "9a08e237",
   "metadata": {},
   "outputs": [],
   "source": [
    "import pandas as pd\n",
    "import numpy as np\n",
    "import matplotlib.pyplot as plt\n",
    "import seaborn as sns\n",
    "%matplotlib inline"
   ]
  },
  {
   "cell_type": "markdown",
   "id": "36eeab3d",
   "metadata": {},
   "source": [
    "# load dataset"
   ]
  },
  {
   "cell_type": "code",
   "execution_count": 2,
   "id": "fcf4a398",
   "metadata": {},
   "outputs": [],
   "source": [
    "netflix_df = pd.read_csv('netflix.csv')\n"
   ]
  },
  {
   "cell_type": "code",
   "execution_count": 3,
   "id": "db1c7ded",
   "metadata": {},
   "outputs": [
    {
     "data": {
      "text/html": [
       "<div>\n",
       "<style scoped>\n",
       "    .dataframe tbody tr th:only-of-type {\n",
       "        vertical-align: middle;\n",
       "    }\n",
       "\n",
       "    .dataframe tbody tr th {\n",
       "        vertical-align: top;\n",
       "    }\n",
       "\n",
       "    .dataframe thead th {\n",
       "        text-align: right;\n",
       "    }\n",
       "</style>\n",
       "<table border=\"1\" class=\"dataframe\">\n",
       "  <thead>\n",
       "    <tr style=\"text-align: right;\">\n",
       "      <th></th>\n",
       "      <th>show_id</th>\n",
       "      <th>type</th>\n",
       "      <th>title</th>\n",
       "      <th>director</th>\n",
       "      <th>cast</th>\n",
       "      <th>country</th>\n",
       "      <th>date_added</th>\n",
       "      <th>release_year</th>\n",
       "      <th>rating</th>\n",
       "      <th>duration</th>\n",
       "      <th>listed_in</th>\n",
       "      <th>description</th>\n",
       "    </tr>\n",
       "  </thead>\n",
       "  <tbody>\n",
       "    <tr>\n",
       "      <th>0</th>\n",
       "      <td>s1</td>\n",
       "      <td>Movie</td>\n",
       "      <td>Dick Johnson Is Dead</td>\n",
       "      <td>Kirsten Johnson</td>\n",
       "      <td>NaN</td>\n",
       "      <td>United States</td>\n",
       "      <td>25-Sep-21</td>\n",
       "      <td>2020</td>\n",
       "      <td>PG-13</td>\n",
       "      <td>90 min</td>\n",
       "      <td>Documentaries</td>\n",
       "      <td>As her father nears the end of his life, filmm...</td>\n",
       "    </tr>\n",
       "    <tr>\n",
       "      <th>1</th>\n",
       "      <td>s2</td>\n",
       "      <td>TV Show</td>\n",
       "      <td>Blood &amp; Water</td>\n",
       "      <td>NaN</td>\n",
       "      <td>Ama Qamata, Khosi Ngema, Gail Mabalane, Thaban...</td>\n",
       "      <td>South Africa</td>\n",
       "      <td>24-Sep-21</td>\n",
       "      <td>2021</td>\n",
       "      <td>TV-MA</td>\n",
       "      <td>2 Seasons</td>\n",
       "      <td>International TV Shows, TV Dramas, TV Mysteries</td>\n",
       "      <td>After crossing paths at a party, a Cape Town t...</td>\n",
       "    </tr>\n",
       "    <tr>\n",
       "      <th>2</th>\n",
       "      <td>s3</td>\n",
       "      <td>TV Show</td>\n",
       "      <td>Ganglands</td>\n",
       "      <td>Julien Leclercq</td>\n",
       "      <td>Sami Bouajila, Tracy Gotoas, Samuel Jouy, Nabi...</td>\n",
       "      <td>NaN</td>\n",
       "      <td>24-Sep-21</td>\n",
       "      <td>2021</td>\n",
       "      <td>TV-MA</td>\n",
       "      <td>1 Season</td>\n",
       "      <td>Crime TV Shows, International TV Shows, TV Act...</td>\n",
       "      <td>To protect his family from a powerful drug lor...</td>\n",
       "    </tr>\n",
       "    <tr>\n",
       "      <th>3</th>\n",
       "      <td>s4</td>\n",
       "      <td>TV Show</td>\n",
       "      <td>Jailbirds New Orleans</td>\n",
       "      <td>NaN</td>\n",
       "      <td>NaN</td>\n",
       "      <td>NaN</td>\n",
       "      <td>24-Sep-21</td>\n",
       "      <td>2021</td>\n",
       "      <td>TV-MA</td>\n",
       "      <td>1 Season</td>\n",
       "      <td>Docuseries, Reality TV</td>\n",
       "      <td>Feuds, flirtations and toilet talk go down amo...</td>\n",
       "    </tr>\n",
       "    <tr>\n",
       "      <th>4</th>\n",
       "      <td>s5</td>\n",
       "      <td>TV Show</td>\n",
       "      <td>Kota Factory</td>\n",
       "      <td>NaN</td>\n",
       "      <td>Mayur More, Jitendra Kumar, Ranjan Raj, Alam K...</td>\n",
       "      <td>India</td>\n",
       "      <td>24-Sep-21</td>\n",
       "      <td>2021</td>\n",
       "      <td>TV-MA</td>\n",
       "      <td>2 Seasons</td>\n",
       "      <td>International TV Shows, Romantic TV Shows, TV ...</td>\n",
       "      <td>In a city of coaching centers known to train I...</td>\n",
       "    </tr>\n",
       "  </tbody>\n",
       "</table>\n",
       "</div>"
      ],
      "text/plain": [
       "  show_id     type                  title         director  \\\n",
       "0      s1    Movie   Dick Johnson Is Dead  Kirsten Johnson   \n",
       "1      s2  TV Show          Blood & Water              NaN   \n",
       "2      s3  TV Show              Ganglands  Julien Leclercq   \n",
       "3      s4  TV Show  Jailbirds New Orleans              NaN   \n",
       "4      s5  TV Show           Kota Factory              NaN   \n",
       "\n",
       "                                                cast        country  \\\n",
       "0                                                NaN  United States   \n",
       "1  Ama Qamata, Khosi Ngema, Gail Mabalane, Thaban...   South Africa   \n",
       "2  Sami Bouajila, Tracy Gotoas, Samuel Jouy, Nabi...            NaN   \n",
       "3                                                NaN            NaN   \n",
       "4  Mayur More, Jitendra Kumar, Ranjan Raj, Alam K...          India   \n",
       "\n",
       "  date_added  release_year rating   duration  \\\n",
       "0  25-Sep-21          2020  PG-13     90 min   \n",
       "1  24-Sep-21          2021  TV-MA  2 Seasons   \n",
       "2  24-Sep-21          2021  TV-MA   1 Season   \n",
       "3  24-Sep-21          2021  TV-MA   1 Season   \n",
       "4  24-Sep-21          2021  TV-MA  2 Seasons   \n",
       "\n",
       "                                           listed_in  \\\n",
       "0                                      Documentaries   \n",
       "1    International TV Shows, TV Dramas, TV Mysteries   \n",
       "2  Crime TV Shows, International TV Shows, TV Act...   \n",
       "3                             Docuseries, Reality TV   \n",
       "4  International TV Shows, Romantic TV Shows, TV ...   \n",
       "\n",
       "                                         description  \n",
       "0  As her father nears the end of his life, filmm...  \n",
       "1  After crossing paths at a party, a Cape Town t...  \n",
       "2  To protect his family from a powerful drug lor...  \n",
       "3  Feuds, flirtations and toilet talk go down amo...  \n",
       "4  In a city of coaching centers known to train I...  "
      ]
     },
     "execution_count": 3,
     "metadata": {},
     "output_type": "execute_result"
    }
   ],
   "source": [
    "netflix_df.head()"
   ]
  },
  {
   "cell_type": "markdown",
   "id": "aeac8db4",
   "metadata": {},
   "source": [
    "# Explore data analysis"
   ]
  },
  {
   "cell_type": "code",
   "execution_count": 4,
   "id": "cc55042e",
   "metadata": {},
   "outputs": [
    {
     "name": "stdout",
     "output_type": "stream",
     "text": [
      "<class 'pandas.core.frame.DataFrame'>\n",
      "RangeIndex: 8807 entries, 0 to 8806\n",
      "Data columns (total 12 columns):\n",
      " #   Column        Non-Null Count  Dtype \n",
      "---  ------        --------------  ----- \n",
      " 0   show_id       8807 non-null   object\n",
      " 1   type          8807 non-null   object\n",
      " 2   title         8807 non-null   object\n",
      " 3   director      6173 non-null   object\n",
      " 4   cast          7982 non-null   object\n",
      " 5   country       7976 non-null   object\n",
      " 6   date_added    8797 non-null   object\n",
      " 7   release_year  8807 non-null   int64 \n",
      " 8   rating        8800 non-null   object\n",
      " 9   duration      8807 non-null   object\n",
      " 10  listed_in     8807 non-null   object\n",
      " 11  description   8807 non-null   object\n",
      "dtypes: int64(1), object(11)\n",
      "memory usage: 825.8+ KB\n"
     ]
    }
   ],
   "source": [
    "netflix_df.info()"
   ]
  },
  {
   "cell_type": "markdown",
   "id": "d6455f50",
   "metadata": {},
   "source": [
    "#### How many rows and columns in this dataset"
   ]
  },
  {
   "cell_type": "code",
   "execution_count": 5,
   "id": "9eba4702",
   "metadata": {},
   "outputs": [
    {
     "data": {
      "text/plain": [
       "(8807, 12)"
      ]
     },
     "execution_count": 5,
     "metadata": {},
     "output_type": "execute_result"
    }
   ],
   "source": [
    "netflix_df.shape"
   ]
  },
  {
   "cell_type": "markdown",
   "id": "aac0d775",
   "metadata": {},
   "source": [
    "#### Check how many null values in our dataset"
   ]
  },
  {
   "cell_type": "code",
   "execution_count": 6,
   "id": "239f333f",
   "metadata": {},
   "outputs": [
    {
     "data": {
      "text/html": [
       "<div>\n",
       "<style scoped>\n",
       "    .dataframe tbody tr th:only-of-type {\n",
       "        vertical-align: middle;\n",
       "    }\n",
       "\n",
       "    .dataframe tbody tr th {\n",
       "        vertical-align: top;\n",
       "    }\n",
       "\n",
       "    .dataframe thead th {\n",
       "        text-align: right;\n",
       "    }\n",
       "</style>\n",
       "<table border=\"1\" class=\"dataframe\">\n",
       "  <thead>\n",
       "    <tr style=\"text-align: right;\">\n",
       "      <th></th>\n",
       "      <th>show_id</th>\n",
       "      <th>type</th>\n",
       "      <th>title</th>\n",
       "      <th>director</th>\n",
       "      <th>cast</th>\n",
       "      <th>country</th>\n",
       "      <th>date_added</th>\n",
       "      <th>release_year</th>\n",
       "      <th>rating</th>\n",
       "      <th>duration</th>\n",
       "      <th>listed_in</th>\n",
       "      <th>description</th>\n",
       "    </tr>\n",
       "  </thead>\n",
       "  <tbody>\n",
       "    <tr>\n",
       "      <th>0</th>\n",
       "      <td>False</td>\n",
       "      <td>False</td>\n",
       "      <td>False</td>\n",
       "      <td>False</td>\n",
       "      <td>True</td>\n",
       "      <td>False</td>\n",
       "      <td>False</td>\n",
       "      <td>False</td>\n",
       "      <td>False</td>\n",
       "      <td>False</td>\n",
       "      <td>False</td>\n",
       "      <td>False</td>\n",
       "    </tr>\n",
       "    <tr>\n",
       "      <th>1</th>\n",
       "      <td>False</td>\n",
       "      <td>False</td>\n",
       "      <td>False</td>\n",
       "      <td>True</td>\n",
       "      <td>False</td>\n",
       "      <td>False</td>\n",
       "      <td>False</td>\n",
       "      <td>False</td>\n",
       "      <td>False</td>\n",
       "      <td>False</td>\n",
       "      <td>False</td>\n",
       "      <td>False</td>\n",
       "    </tr>\n",
       "    <tr>\n",
       "      <th>2</th>\n",
       "      <td>False</td>\n",
       "      <td>False</td>\n",
       "      <td>False</td>\n",
       "      <td>False</td>\n",
       "      <td>False</td>\n",
       "      <td>True</td>\n",
       "      <td>False</td>\n",
       "      <td>False</td>\n",
       "      <td>False</td>\n",
       "      <td>False</td>\n",
       "      <td>False</td>\n",
       "      <td>False</td>\n",
       "    </tr>\n",
       "    <tr>\n",
       "      <th>3</th>\n",
       "      <td>False</td>\n",
       "      <td>False</td>\n",
       "      <td>False</td>\n",
       "      <td>True</td>\n",
       "      <td>True</td>\n",
       "      <td>True</td>\n",
       "      <td>False</td>\n",
       "      <td>False</td>\n",
       "      <td>False</td>\n",
       "      <td>False</td>\n",
       "      <td>False</td>\n",
       "      <td>False</td>\n",
       "    </tr>\n",
       "    <tr>\n",
       "      <th>4</th>\n",
       "      <td>False</td>\n",
       "      <td>False</td>\n",
       "      <td>False</td>\n",
       "      <td>True</td>\n",
       "      <td>False</td>\n",
       "      <td>False</td>\n",
       "      <td>False</td>\n",
       "      <td>False</td>\n",
       "      <td>False</td>\n",
       "      <td>False</td>\n",
       "      <td>False</td>\n",
       "      <td>False</td>\n",
       "    </tr>\n",
       "    <tr>\n",
       "      <th>...</th>\n",
       "      <td>...</td>\n",
       "      <td>...</td>\n",
       "      <td>...</td>\n",
       "      <td>...</td>\n",
       "      <td>...</td>\n",
       "      <td>...</td>\n",
       "      <td>...</td>\n",
       "      <td>...</td>\n",
       "      <td>...</td>\n",
       "      <td>...</td>\n",
       "      <td>...</td>\n",
       "      <td>...</td>\n",
       "    </tr>\n",
       "    <tr>\n",
       "      <th>8802</th>\n",
       "      <td>False</td>\n",
       "      <td>False</td>\n",
       "      <td>False</td>\n",
       "      <td>False</td>\n",
       "      <td>False</td>\n",
       "      <td>False</td>\n",
       "      <td>False</td>\n",
       "      <td>False</td>\n",
       "      <td>False</td>\n",
       "      <td>False</td>\n",
       "      <td>False</td>\n",
       "      <td>False</td>\n",
       "    </tr>\n",
       "    <tr>\n",
       "      <th>8803</th>\n",
       "      <td>False</td>\n",
       "      <td>False</td>\n",
       "      <td>False</td>\n",
       "      <td>True</td>\n",
       "      <td>True</td>\n",
       "      <td>True</td>\n",
       "      <td>False</td>\n",
       "      <td>False</td>\n",
       "      <td>False</td>\n",
       "      <td>False</td>\n",
       "      <td>False</td>\n",
       "      <td>False</td>\n",
       "    </tr>\n",
       "    <tr>\n",
       "      <th>8804</th>\n",
       "      <td>False</td>\n",
       "      <td>False</td>\n",
       "      <td>False</td>\n",
       "      <td>False</td>\n",
       "      <td>False</td>\n",
       "      <td>False</td>\n",
       "      <td>False</td>\n",
       "      <td>False</td>\n",
       "      <td>False</td>\n",
       "      <td>False</td>\n",
       "      <td>False</td>\n",
       "      <td>False</td>\n",
       "    </tr>\n",
       "    <tr>\n",
       "      <th>8805</th>\n",
       "      <td>False</td>\n",
       "      <td>False</td>\n",
       "      <td>False</td>\n",
       "      <td>False</td>\n",
       "      <td>False</td>\n",
       "      <td>False</td>\n",
       "      <td>False</td>\n",
       "      <td>False</td>\n",
       "      <td>False</td>\n",
       "      <td>False</td>\n",
       "      <td>False</td>\n",
       "      <td>False</td>\n",
       "    </tr>\n",
       "    <tr>\n",
       "      <th>8806</th>\n",
       "      <td>False</td>\n",
       "      <td>False</td>\n",
       "      <td>False</td>\n",
       "      <td>False</td>\n",
       "      <td>False</td>\n",
       "      <td>False</td>\n",
       "      <td>False</td>\n",
       "      <td>False</td>\n",
       "      <td>False</td>\n",
       "      <td>False</td>\n",
       "      <td>False</td>\n",
       "      <td>False</td>\n",
       "    </tr>\n",
       "  </tbody>\n",
       "</table>\n",
       "<p>8807 rows × 12 columns</p>\n",
       "</div>"
      ],
      "text/plain": [
       "      show_id   type  title  director   cast  country  date_added  \\\n",
       "0       False  False  False     False   True    False       False   \n",
       "1       False  False  False      True  False    False       False   \n",
       "2       False  False  False     False  False     True       False   \n",
       "3       False  False  False      True   True     True       False   \n",
       "4       False  False  False      True  False    False       False   \n",
       "...       ...    ...    ...       ...    ...      ...         ...   \n",
       "8802    False  False  False     False  False    False       False   \n",
       "8803    False  False  False      True   True     True       False   \n",
       "8804    False  False  False     False  False    False       False   \n",
       "8805    False  False  False     False  False    False       False   \n",
       "8806    False  False  False     False  False    False       False   \n",
       "\n",
       "      release_year  rating  duration  listed_in  description  \n",
       "0            False   False     False      False        False  \n",
       "1            False   False     False      False        False  \n",
       "2            False   False     False      False        False  \n",
       "3            False   False     False      False        False  \n",
       "4            False   False     False      False        False  \n",
       "...            ...     ...       ...        ...          ...  \n",
       "8802         False   False     False      False        False  \n",
       "8803         False   False     False      False        False  \n",
       "8804         False   False     False      False        False  \n",
       "8805         False   False     False      False        False  \n",
       "8806         False   False     False      False        False  \n",
       "\n",
       "[8807 rows x 12 columns]"
      ]
     },
     "execution_count": 6,
     "metadata": {},
     "output_type": "execute_result"
    }
   ],
   "source": [
    "netflix_df.isna()"
   ]
  },
  {
   "cell_type": "code",
   "execution_count": 7,
   "id": "f37832c2",
   "metadata": {},
   "outputs": [
    {
     "data": {
      "text/plain": [
       "show_id            0\n",
       "type               0\n",
       "title              0\n",
       "director        2634\n",
       "cast             825\n",
       "country          831\n",
       "date_added        10\n",
       "release_year       0\n",
       "rating             7\n",
       "duration           0\n",
       "listed_in          0\n",
       "description        0\n",
       "dtype: int64"
      ]
     },
     "execution_count": 7,
     "metadata": {},
     "output_type": "execute_result"
    }
   ],
   "source": [
    "netflix_df.isna().sum()"
   ]
  },
  {
   "cell_type": "markdown",
   "id": "4f9d3eae",
   "metadata": {},
   "source": [
    "#### we can see that some of the columns has null vallues "
   ]
  },
  {
   "cell_type": "markdown",
   "id": "03303841",
   "metadata": {},
   "source": [
    "# Cleaning\n"
   ]
  },
  {
   "cell_type": "code",
   "execution_count": 9,
   "id": "d0185ff6",
   "metadata": {},
   "outputs": [
    {
     "data": {
      "text/plain": [
       "Index(['show_id', 'type', 'title', 'director', 'cast', 'country', 'date_added',\n",
       "       'release_year', 'rating', 'duration', 'listed_in', 'description'],\n",
       "      dtype='object')"
      ]
     },
     "execution_count": 9,
     "metadata": {},
     "output_type": "execute_result"
    }
   ],
   "source": [
    "netflix_df.columns"
   ]
  },
  {
   "cell_type": "markdown",
   "id": "a0bb8603",
   "metadata": {},
   "source": [
    "#### now I'll delet some columns that i will not use it and fill null value in column country and date added "
   ]
  },
  {
   "cell_type": "code",
   "execution_count": 10,
   "id": "ef96d9a4",
   "metadata": {},
   "outputs": [],
   "source": [
    "netflix_df.drop(['director', 'cast' , 'description', 'listed_in'] , axis=1 , inplace=True)\n",
    "netflix_df['country'].fillna('Country Unavailable', inplace=True)\n",
    "netflix_df.dropna(subset=['date_added','rating'],inplace=True)"
   ]
  },
  {
   "cell_type": "markdown",
   "id": "008eedef",
   "metadata": {},
   "source": [
    "#### since the values in date added column are object i'll change it into Int and change the date format "
   ]
  },
  {
   "cell_type": "code",
   "execution_count": 11,
   "id": "0d39a105",
   "metadata": {},
   "outputs": [],
   "source": [
    "netflix_df[\"date_added\"] = pd.to_datetime(netflix_df['date_added'])\n",
    "netflix_df['day_added'] = netflix_df['date_added'].dt.day\n",
    "netflix_df['year_added'] = netflix_df['date_added'].dt.year\n",
    "netflix_df['month_added']=netflix_df['date_added'].dt.month\n",
    "netflix_df['year_added'].astype(int);\n",
    "netflix_df['day_added'].astype(int);"
   ]
  },
  {
   "cell_type": "code",
   "execution_count": 12,
   "id": "771fe223",
   "metadata": {},
   "outputs": [
    {
     "data": {
      "text/html": [
       "<div>\n",
       "<style scoped>\n",
       "    .dataframe tbody tr th:only-of-type {\n",
       "        vertical-align: middle;\n",
       "    }\n",
       "\n",
       "    .dataframe tbody tr th {\n",
       "        vertical-align: top;\n",
       "    }\n",
       "\n",
       "    .dataframe thead th {\n",
       "        text-align: right;\n",
       "    }\n",
       "</style>\n",
       "<table border=\"1\" class=\"dataframe\">\n",
       "  <thead>\n",
       "    <tr style=\"text-align: right;\">\n",
       "      <th></th>\n",
       "      <th>show_id</th>\n",
       "      <th>type</th>\n",
       "      <th>title</th>\n",
       "      <th>country</th>\n",
       "      <th>date_added</th>\n",
       "      <th>release_year</th>\n",
       "      <th>rating</th>\n",
       "      <th>duration</th>\n",
       "      <th>day_added</th>\n",
       "      <th>year_added</th>\n",
       "      <th>month_added</th>\n",
       "    </tr>\n",
       "  </thead>\n",
       "  <tbody>\n",
       "    <tr>\n",
       "      <th>0</th>\n",
       "      <td>s1</td>\n",
       "      <td>Movie</td>\n",
       "      <td>Dick Johnson Is Dead</td>\n",
       "      <td>United States</td>\n",
       "      <td>2021-09-25</td>\n",
       "      <td>2020</td>\n",
       "      <td>PG-13</td>\n",
       "      <td>90 min</td>\n",
       "      <td>25</td>\n",
       "      <td>2021</td>\n",
       "      <td>9</td>\n",
       "    </tr>\n",
       "    <tr>\n",
       "      <th>1</th>\n",
       "      <td>s2</td>\n",
       "      <td>TV Show</td>\n",
       "      <td>Blood &amp; Water</td>\n",
       "      <td>South Africa</td>\n",
       "      <td>2021-09-24</td>\n",
       "      <td>2021</td>\n",
       "      <td>TV-MA</td>\n",
       "      <td>2 Seasons</td>\n",
       "      <td>24</td>\n",
       "      <td>2021</td>\n",
       "      <td>9</td>\n",
       "    </tr>\n",
       "    <tr>\n",
       "      <th>2</th>\n",
       "      <td>s3</td>\n",
       "      <td>TV Show</td>\n",
       "      <td>Ganglands</td>\n",
       "      <td>Country Unavailable</td>\n",
       "      <td>2021-09-24</td>\n",
       "      <td>2021</td>\n",
       "      <td>TV-MA</td>\n",
       "      <td>1 Season</td>\n",
       "      <td>24</td>\n",
       "      <td>2021</td>\n",
       "      <td>9</td>\n",
       "    </tr>\n",
       "    <tr>\n",
       "      <th>3</th>\n",
       "      <td>s4</td>\n",
       "      <td>TV Show</td>\n",
       "      <td>Jailbirds New Orleans</td>\n",
       "      <td>Country Unavailable</td>\n",
       "      <td>2021-09-24</td>\n",
       "      <td>2021</td>\n",
       "      <td>TV-MA</td>\n",
       "      <td>1 Season</td>\n",
       "      <td>24</td>\n",
       "      <td>2021</td>\n",
       "      <td>9</td>\n",
       "    </tr>\n",
       "    <tr>\n",
       "      <th>4</th>\n",
       "      <td>s5</td>\n",
       "      <td>TV Show</td>\n",
       "      <td>Kota Factory</td>\n",
       "      <td>India</td>\n",
       "      <td>2021-09-24</td>\n",
       "      <td>2021</td>\n",
       "      <td>TV-MA</td>\n",
       "      <td>2 Seasons</td>\n",
       "      <td>24</td>\n",
       "      <td>2021</td>\n",
       "      <td>9</td>\n",
       "    </tr>\n",
       "  </tbody>\n",
       "</table>\n",
       "</div>"
      ],
      "text/plain": [
       "  show_id     type                  title              country date_added  \\\n",
       "0      s1    Movie   Dick Johnson Is Dead        United States 2021-09-25   \n",
       "1      s2  TV Show          Blood & Water         South Africa 2021-09-24   \n",
       "2      s3  TV Show              Ganglands  Country Unavailable 2021-09-24   \n",
       "3      s4  TV Show  Jailbirds New Orleans  Country Unavailable 2021-09-24   \n",
       "4      s5  TV Show           Kota Factory                India 2021-09-24   \n",
       "\n",
       "   release_year rating   duration  day_added  year_added  month_added  \n",
       "0          2020  PG-13     90 min         25        2021            9  \n",
       "1          2021  TV-MA  2 Seasons         24        2021            9  \n",
       "2          2021  TV-MA   1 Season         24        2021            9  \n",
       "3          2021  TV-MA   1 Season         24        2021            9  \n",
       "4          2021  TV-MA  2 Seasons         24        2021            9  "
      ]
     },
     "execution_count": 12,
     "metadata": {},
     "output_type": "execute_result"
    }
   ],
   "source": [
    "netflix_df.head()"
   ]
  },
  {
   "cell_type": "code",
   "execution_count": 13,
   "id": "33e55e27",
   "metadata": {},
   "outputs": [
    {
     "data": {
      "text/plain": [
       "show_id         0\n",
       "type            0\n",
       "title           0\n",
       "country         0\n",
       "date_added      0\n",
       "release_year    0\n",
       "rating          0\n",
       "duration        0\n",
       "day_added       0\n",
       "year_added      0\n",
       "month_added     0\n",
       "dtype: int64"
      ]
     },
     "execution_count": 13,
     "metadata": {},
     "output_type": "execute_result"
    }
   ],
   "source": [
    "netflix_df.isnull().sum()"
   ]
  },
  {
   "cell_type": "markdown",
   "id": "bb37c52b",
   "metadata": {},
   "source": [
    "### Now the dataset is clean "
   ]
  },
  {
   "cell_type": "markdown",
   "id": "ba9c7c56",
   "metadata": {},
   "source": [
    "# Visualization\n"
   ]
  },
  {
   "cell_type": "markdown",
   "id": "da34d395",
   "metadata": {},
   "source": [
    "#### Which calss is the most Movie / Tv Show "
   ]
  },
  {
   "cell_type": "code",
   "execution_count": 14,
   "id": "8f2a4c8d",
   "metadata": {},
   "outputs": [
    {
     "name": "stderr",
     "output_type": "stream",
     "text": [
      "C:\\Users\\nadiyah.alotaibi\\Anaconda3\\lib\\site-packages\\seaborn\\_decorators.py:36: FutureWarning: Pass the following variable as a keyword arg: x. From version 0.12, the only valid positional argument will be `data`, and passing other arguments without an explicit keyword will result in an error or misinterpretation.\n",
      "  warnings.warn(\n"
     ]
    },
    {
     "data": {
      "text/plain": [
       "Text(0, 0.5, 'Total Count')"
      ]
     },
     "execution_count": 14,
     "metadata": {},
     "output_type": "execute_result"
    },
    {
     "data": {
      "image/png": "[encoded data removed]",
      "text/plain": [
       "<Figure size 504x360 with 1 Axes>"
      ]
     },
     "metadata": {
      "needs_background": "light"
     },
     "output_type": "display_data"
    }
   ],
   "source": [
    "plt.figure(figsize=(7,5))\n",
    "sns.countplot(netflix_df.type);\n",
    "plt.xlabel(\"Type (Movie/TV Show)\")\n",
    "plt.ylabel(\"Total Count\")"
   ]
  },
  {
   "cell_type": "markdown",
   "id": "d35496fa",
   "metadata": {},
   "source": [
    "#### Ratings for Movies & TV Shows"
   ]
  },
  {
   "cell_type": "code",
   "execution_count": 15,
   "id": "d2a74584",
   "metadata": {},
   "outputs": [
    {
     "data": {
      "image/png": "[encoded data removed]",
      "text/plain": [
       "<Figure size 720x576 with 1 Axes>"
      ]
     },
     "metadata": {
      "needs_background": "light"
     },
     "output_type": "display_data"
    }
   ],
   "source": [
    "plt.figure(figsize=(10,8))\n",
    "sns.countplot(x='rating',hue='type',data=netflix_df)\n",
    "plt.title('Relation between Type and Rating')\n",
    "plt.show()"
   ]
  },
  {
   "cell_type": "markdown",
   "id": "a74d7c58",
   "metadata": {},
   "source": [
    "#### Creat Rating descrption "
   ]
  },
  {
   "cell_type": "code",
   "execution_count": 16,
   "id": "731b06c5",
   "metadata": {},
   "outputs": [],
   "source": [
    "Rating_dic = {\n",
    "    'TV-Y': 'Intended for children ages 2 to 6 and is not designed or expected to frighten.' , \n",
    "    'TV-Y7': 'Intended for children ages 7 and older. Best suited for children who know the difference between real life and make-believe. Contains mild fantasy or comedic violence. Some content could frighten younger children (under age 7).' ,\n",
    "    'TV-Y7 FV': 'Intended for older children. Contains fantasy violence more combative than TVY7 programs.' ,\n",
    "    'TV-G': 'Intended for all ages. Contains little or no violence, no strong language and little or no sexual dialogue or situations.' ,\n",
    "    'TV-PG': 'Intended for younger children in the company of an adult. Possibly contains some suggestive dialogue, infrequent coarse language, some sexual situations or some moderate violence.' ,\n",
    "    'TV-14': 'Intended for children ages 14 and older in the company of an adult. Possibly contains intensely suggestive dialogue, strong coarse language, intense sexual situations or intense violence.',\n",
    "    'TV-MA:': 'Intended for adults and may be unsuitable for children under 17. Possibly contains crude indecent language, explicit sexual activity or graphic violence.' ,\n",
    "    'G': 'This program is designed to be appropriate for all ages. This rating indicates a film contains nothing that would offend parents for viewing by children.' ,\n",
    "    'PG': 'Parents are urged to give parental guidance. This film may contain some material parents might not like for their young children.',\n",
    "    'PG-13': 'Some material may not be suited for children under age 13. May contain violence, nudity, sensuality, language, adult activities or other elements beyond a PG rating, but doesn’t reach the restricted R category',\n",
    "    'R': 'This rating is for films specifically designed to be viewed by adults and therefore may be unsuitable for children under 17.',\n",
    "    'NC-17': 'This rating is applied to films the MPAA believes most parents will consider inappropriate for children 17 and under. It indicates only that adult content is more intense than in an R rated movie.'\n",
    "}\n"
   ]
  },
  {
   "cell_type": "code",
   "execution_count": 17,
   "id": "6e989a98",
   "metadata": {
    "scrolled": false
   },
   "outputs": [
    {
     "data": {
      "text/plain": [
       "<seaborn.axisgrid.PairGrid at 0x229a214ee20>"
      ]
     },
     "execution_count": 17,
     "metadata": {},
     "output_type": "execute_result"
    },
    {
     "data": {
      "image/png": "[encoded data removed]",
      "text/plain": [
       "<Figure size 798.75x720 with 20 Axes>"
      ]
     },
     "metadata": {
      "needs_background": "light"
     },
     "output_type": "display_data"
    }
   ],
   "source": [
    "sns.pairplot(netflix_df, kind='scatter',hue='type')"
   ]
  },
  {
   "cell_type": "markdown",
   "id": "34558b47",
   "metadata": {},
   "source": [
    "#### As we see above netflix is focusing on Movies than Tv Show "
   ]
  },
  {
   "cell_type": "markdown",
   "id": "9e2e209d",
   "metadata": {},
   "source": [
    "# preprocessing for modeling\n"
   ]
  },
  {
   "cell_type": "code",
   "execution_count": 18,
   "id": "04be9f63",
   "metadata": {},
   "outputs": [
    {
     "data": {
      "text/html": [
       "<div>\n",
       "<style scoped>\n",
       "    .dataframe tbody tr th:only-of-type {\n",
       "        vertical-align: middle;\n",
       "    }\n",
       "\n",
       "    .dataframe tbody tr th {\n",
       "        vertical-align: top;\n",
       "    }\n",
       "\n",
       "    .dataframe thead th {\n",
       "        text-align: right;\n",
       "    }\n",
       "</style>\n",
       "<table border=\"1\" class=\"dataframe\">\n",
       "  <thead>\n",
       "    <tr style=\"text-align: right;\">\n",
       "      <th></th>\n",
       "      <th>show_id</th>\n",
       "      <th>type</th>\n",
       "      <th>title</th>\n",
       "      <th>country</th>\n",
       "      <th>date_added</th>\n",
       "      <th>release_year</th>\n",
       "      <th>rating</th>\n",
       "      <th>duration</th>\n",
       "      <th>day_added</th>\n",
       "      <th>year_added</th>\n",
       "      <th>month_added</th>\n",
       "    </tr>\n",
       "  </thead>\n",
       "  <tbody>\n",
       "    <tr>\n",
       "      <th>0</th>\n",
       "      <td>s1</td>\n",
       "      <td>Movie</td>\n",
       "      <td>Dick Johnson Is Dead</td>\n",
       "      <td>United States</td>\n",
       "      <td>2021-09-25</td>\n",
       "      <td>2020</td>\n",
       "      <td>PG-13</td>\n",
       "      <td>90 min</td>\n",
       "      <td>25</td>\n",
       "      <td>2021</td>\n",
       "      <td>9</td>\n",
       "    </tr>\n",
       "    <tr>\n",
       "      <th>1</th>\n",
       "      <td>s2</td>\n",
       "      <td>TV Show</td>\n",
       "      <td>Blood &amp; Water</td>\n",
       "      <td>South Africa</td>\n",
       "      <td>2021-09-24</td>\n",
       "      <td>2021</td>\n",
       "      <td>TV-MA</td>\n",
       "      <td>2 Seasons</td>\n",
       "      <td>24</td>\n",
       "      <td>2021</td>\n",
       "      <td>9</td>\n",
       "    </tr>\n",
       "    <tr>\n",
       "      <th>2</th>\n",
       "      <td>s3</td>\n",
       "      <td>TV Show</td>\n",
       "      <td>Ganglands</td>\n",
       "      <td>Country Unavailable</td>\n",
       "      <td>2021-09-24</td>\n",
       "      <td>2021</td>\n",
       "      <td>TV-MA</td>\n",
       "      <td>1 Season</td>\n",
       "      <td>24</td>\n",
       "      <td>2021</td>\n",
       "      <td>9</td>\n",
       "    </tr>\n",
       "    <tr>\n",
       "      <th>3</th>\n",
       "      <td>s4</td>\n",
       "      <td>TV Show</td>\n",
       "      <td>Jailbirds New Orleans</td>\n",
       "      <td>Country Unavailable</td>\n",
       "      <td>2021-09-24</td>\n",
       "      <td>2021</td>\n",
       "      <td>TV-MA</td>\n",
       "      <td>1 Season</td>\n",
       "      <td>24</td>\n",
       "      <td>2021</td>\n",
       "      <td>9</td>\n",
       "    </tr>\n",
       "    <tr>\n",
       "      <th>4</th>\n",
       "      <td>s5</td>\n",
       "      <td>TV Show</td>\n",
       "      <td>Kota Factory</td>\n",
       "      <td>India</td>\n",
       "      <td>2021-09-24</td>\n",
       "      <td>2021</td>\n",
       "      <td>TV-MA</td>\n",
       "      <td>2 Seasons</td>\n",
       "      <td>24</td>\n",
       "      <td>2021</td>\n",
       "      <td>9</td>\n",
       "    </tr>\n",
       "  </tbody>\n",
       "</table>\n",
       "</div>"
      ],
      "text/plain": [
       "  show_id     type                  title              country date_added  \\\n",
       "0      s1    Movie   Dick Johnson Is Dead        United States 2021-09-25   \n",
       "1      s2  TV Show          Blood & Water         South Africa 2021-09-24   \n",
       "2      s3  TV Show              Ganglands  Country Unavailable 2021-09-24   \n",
       "3      s4  TV Show  Jailbirds New Orleans  Country Unavailable 2021-09-24   \n",
       "4      s5  TV Show           Kota Factory                India 2021-09-24   \n",
       "\n",
       "   release_year rating   duration  day_added  year_added  month_added  \n",
       "0          2020  PG-13     90 min         25        2021            9  \n",
       "1          2021  TV-MA  2 Seasons         24        2021            9  \n",
       "2          2021  TV-MA   1 Season         24        2021            9  \n",
       "3          2021  TV-MA   1 Season         24        2021            9  \n",
       "4          2021  TV-MA  2 Seasons         24        2021            9  "
      ]
     },
     "execution_count": 18,
     "metadata": {},
     "output_type": "execute_result"
    }
   ],
   "source": [
    "netflix_df.head()"
   ]
  },
  {
   "cell_type": "code",
   "execution_count": 19,
   "id": "79d90ab5",
   "metadata": {},
   "outputs": [],
   "source": [
    "netflix_df.drop(columns=['title','show_id','duration','country'], inplace=True)\n"
   ]
  },
  {
   "cell_type": "code",
   "execution_count": 20,
   "id": "1f2993ad",
   "metadata": {},
   "outputs": [
    {
     "data": {
      "text/html": [
       "<div>\n",
       "<style scoped>\n",
       "    .dataframe tbody tr th:only-of-type {\n",
       "        vertical-align: middle;\n",
       "    }\n",
       "\n",
       "    .dataframe tbody tr th {\n",
       "        vertical-align: top;\n",
       "    }\n",
       "\n",
       "    .dataframe thead th {\n",
       "        text-align: right;\n",
       "    }\n",
       "</style>\n",
       "<table border=\"1\" class=\"dataframe\">\n",
       "  <thead>\n",
       "    <tr style=\"text-align: right;\">\n",
       "      <th></th>\n",
       "      <th>type</th>\n",
       "      <th>date_added</th>\n",
       "      <th>release_year</th>\n",
       "      <th>rating</th>\n",
       "      <th>day_added</th>\n",
       "      <th>year_added</th>\n",
       "      <th>month_added</th>\n",
       "    </tr>\n",
       "  </thead>\n",
       "  <tbody>\n",
       "    <tr>\n",
       "      <th>0</th>\n",
       "      <td>Movie</td>\n",
       "      <td>2021-09-25</td>\n",
       "      <td>2020</td>\n",
       "      <td>PG-13</td>\n",
       "      <td>25</td>\n",
       "      <td>2021</td>\n",
       "      <td>9</td>\n",
       "    </tr>\n",
       "    <tr>\n",
       "      <th>1</th>\n",
       "      <td>TV Show</td>\n",
       "      <td>2021-09-24</td>\n",
       "      <td>2021</td>\n",
       "      <td>TV-MA</td>\n",
       "      <td>24</td>\n",
       "      <td>2021</td>\n",
       "      <td>9</td>\n",
       "    </tr>\n",
       "    <tr>\n",
       "      <th>2</th>\n",
       "      <td>TV Show</td>\n",
       "      <td>2021-09-24</td>\n",
       "      <td>2021</td>\n",
       "      <td>TV-MA</td>\n",
       "      <td>24</td>\n",
       "      <td>2021</td>\n",
       "      <td>9</td>\n",
       "    </tr>\n",
       "    <tr>\n",
       "      <th>3</th>\n",
       "      <td>TV Show</td>\n",
       "      <td>2021-09-24</td>\n",
       "      <td>2021</td>\n",
       "      <td>TV-MA</td>\n",
       "      <td>24</td>\n",
       "      <td>2021</td>\n",
       "      <td>9</td>\n",
       "    </tr>\n",
       "    <tr>\n",
       "      <th>4</th>\n",
       "      <td>TV Show</td>\n",
       "      <td>2021-09-24</td>\n",
       "      <td>2021</td>\n",
       "      <td>TV-MA</td>\n",
       "      <td>24</td>\n",
       "      <td>2021</td>\n",
       "      <td>9</td>\n",
       "    </tr>\n",
       "  </tbody>\n",
       "</table>\n",
       "</div>"
      ],
      "text/plain": [
       "      type date_added  release_year rating  day_added  year_added  month_added\n",
       "0    Movie 2021-09-25          2020  PG-13         25        2021            9\n",
       "1  TV Show 2021-09-24          2021  TV-MA         24        2021            9\n",
       "2  TV Show 2021-09-24          2021  TV-MA         24        2021            9\n",
       "3  TV Show 2021-09-24          2021  TV-MA         24        2021            9\n",
       "4  TV Show 2021-09-24          2021  TV-MA         24        2021            9"
      ]
     },
     "execution_count": 20,
     "metadata": {},
     "output_type": "execute_result"
    }
   ],
   "source": [
    "netflix_df.head()"
   ]
  },
  {
   "cell_type": "code",
   "execution_count": 21,
   "id": "1552aa83",
   "metadata": {},
   "outputs": [],
   "source": [
    "netflix_df = pd.get_dummies(netflix_df)"
   ]
  },
  {
   "cell_type": "code",
   "execution_count": 22,
   "id": "74e0148e",
   "metadata": {
    "scrolled": false
   },
   "outputs": [],
   "source": [
    "netflix_df.rename(columns={\"type_TV Show\":\"type_TV_Show\"}, inplace= True)"
   ]
  },
  {
   "cell_type": "code",
   "execution_count": 23,
   "id": "2f0e68be",
   "metadata": {},
   "outputs": [
    {
     "data": {
      "text/plain": [
       "Index(['date_added', 'release_year', 'day_added', 'year_added', 'month_added',\n",
       "       'type_Movie', 'type_TV_Show', 'rating_G', 'rating_NC-17', 'rating_NR',\n",
       "       'rating_PG', 'rating_PG-13', 'rating_R', 'rating_TV-14', 'rating_TV-G',\n",
       "       'rating_TV-MA', 'rating_TV-PG', 'rating_TV-Y', 'rating_TV-Y7',\n",
       "       'rating_TV-Y7-FV', 'rating_UR'],\n",
       "      dtype='object')"
      ]
     },
     "execution_count": 23,
     "metadata": {},
     "output_type": "execute_result"
    }
   ],
   "source": [
    "netflix_df.columns"
   ]
  },
  {
   "cell_type": "markdown",
   "id": "a9744d51",
   "metadata": {
    "id": "GolOYMCqgHEZ"
   },
   "source": [
    "# split Data"
   ]
  },
  {
   "cell_type": "markdown",
   "id": "f912b6be",
   "metadata": {},
   "source": [
    "#### Detect Input and Output"
   ]
  },
  {
   "cell_type": "code",
   "execution_count": 24,
   "id": "99b43e66",
   "metadata": {},
   "outputs": [
    {
     "data": {
      "text/html": [
       "<div>\n",
       "<style scoped>\n",
       "    .dataframe tbody tr th:only-of-type {\n",
       "        vertical-align: middle;\n",
       "    }\n",
       "\n",
       "    .dataframe tbody tr th {\n",
       "        vertical-align: top;\n",
       "    }\n",
       "\n",
       "    .dataframe thead th {\n",
       "        text-align: right;\n",
       "    }\n",
       "</style>\n",
       "<table border=\"1\" class=\"dataframe\">\n",
       "  <thead>\n",
       "    <tr style=\"text-align: right;\">\n",
       "      <th></th>\n",
       "      <th>date_added</th>\n",
       "      <th>release_year</th>\n",
       "      <th>day_added</th>\n",
       "      <th>year_added</th>\n",
       "      <th>month_added</th>\n",
       "      <th>rating_G</th>\n",
       "      <th>rating_NC-17</th>\n",
       "      <th>rating_NR</th>\n",
       "      <th>rating_PG</th>\n",
       "      <th>rating_PG-13</th>\n",
       "      <th>rating_R</th>\n",
       "      <th>rating_TV-14</th>\n",
       "      <th>rating_TV-G</th>\n",
       "      <th>rating_TV-MA</th>\n",
       "      <th>rating_TV-PG</th>\n",
       "      <th>rating_TV-Y</th>\n",
       "      <th>rating_TV-Y7</th>\n",
       "      <th>rating_TV-Y7-FV</th>\n",
       "      <th>rating_UR</th>\n",
       "    </tr>\n",
       "  </thead>\n",
       "  <tbody>\n",
       "    <tr>\n",
       "      <th>0</th>\n",
       "      <td>2021-09-25</td>\n",
       "      <td>2020</td>\n",
       "      <td>25</td>\n",
       "      <td>2021</td>\n",
       "      <td>9</td>\n",
       "      <td>0</td>\n",
       "      <td>0</td>\n",
       "      <td>0</td>\n",
       "      <td>0</td>\n",
       "      <td>1</td>\n",
       "      <td>0</td>\n",
       "      <td>0</td>\n",
       "      <td>0</td>\n",
       "      <td>0</td>\n",
       "      <td>0</td>\n",
       "      <td>0</td>\n",
       "      <td>0</td>\n",
       "      <td>0</td>\n",
       "      <td>0</td>\n",
       "    </tr>\n",
       "    <tr>\n",
       "      <th>1</th>\n",
       "      <td>2021-09-24</td>\n",
       "      <td>2021</td>\n",
       "      <td>24</td>\n",
       "      <td>2021</td>\n",
       "      <td>9</td>\n",
       "      <td>0</td>\n",
       "      <td>0</td>\n",
       "      <td>0</td>\n",
       "      <td>0</td>\n",
       "      <td>0</td>\n",
       "      <td>0</td>\n",
       "      <td>0</td>\n",
       "      <td>0</td>\n",
       "      <td>1</td>\n",
       "      <td>0</td>\n",
       "      <td>0</td>\n",
       "      <td>0</td>\n",
       "      <td>0</td>\n",
       "      <td>0</td>\n",
       "    </tr>\n",
       "    <tr>\n",
       "      <th>2</th>\n",
       "      <td>2021-09-24</td>\n",
       "      <td>2021</td>\n",
       "      <td>24</td>\n",
       "      <td>2021</td>\n",
       "      <td>9</td>\n",
       "      <td>0</td>\n",
       "      <td>0</td>\n",
       "      <td>0</td>\n",
       "      <td>0</td>\n",
       "      <td>0</td>\n",
       "      <td>0</td>\n",
       "      <td>0</td>\n",
       "      <td>0</td>\n",
       "      <td>1</td>\n",
       "      <td>0</td>\n",
       "      <td>0</td>\n",
       "      <td>0</td>\n",
       "      <td>0</td>\n",
       "      <td>0</td>\n",
       "    </tr>\n",
       "    <tr>\n",
       "      <th>3</th>\n",
       "      <td>2021-09-24</td>\n",
       "      <td>2021</td>\n",
       "      <td>24</td>\n",
       "      <td>2021</td>\n",
       "      <td>9</td>\n",
       "      <td>0</td>\n",
       "      <td>0</td>\n",
       "      <td>0</td>\n",
       "      <td>0</td>\n",
       "      <td>0</td>\n",
       "      <td>0</td>\n",
       "      <td>0</td>\n",
       "      <td>0</td>\n",
       "      <td>1</td>\n",
       "      <td>0</td>\n",
       "      <td>0</td>\n",
       "      <td>0</td>\n",
       "      <td>0</td>\n",
       "      <td>0</td>\n",
       "    </tr>\n",
       "    <tr>\n",
       "      <th>4</th>\n",
       "      <td>2021-09-24</td>\n",
       "      <td>2021</td>\n",
       "      <td>24</td>\n",
       "      <td>2021</td>\n",
       "      <td>9</td>\n",
       "      <td>0</td>\n",
       "      <td>0</td>\n",
       "      <td>0</td>\n",
       "      <td>0</td>\n",
       "      <td>0</td>\n",
       "      <td>0</td>\n",
       "      <td>0</td>\n",
       "      <td>0</td>\n",
       "      <td>1</td>\n",
       "      <td>0</td>\n",
       "      <td>0</td>\n",
       "      <td>0</td>\n",
       "      <td>0</td>\n",
       "      <td>0</td>\n",
       "    </tr>\n",
       "    <tr>\n",
       "      <th>...</th>\n",
       "      <td>...</td>\n",
       "      <td>...</td>\n",
       "      <td>...</td>\n",
       "      <td>...</td>\n",
       "      <td>...</td>\n",
       "      <td>...</td>\n",
       "      <td>...</td>\n",
       "      <td>...</td>\n",
       "      <td>...</td>\n",
       "      <td>...</td>\n",
       "      <td>...</td>\n",
       "      <td>...</td>\n",
       "      <td>...</td>\n",
       "      <td>...</td>\n",
       "      <td>...</td>\n",
       "      <td>...</td>\n",
       "      <td>...</td>\n",
       "      <td>...</td>\n",
       "      <td>...</td>\n",
       "    </tr>\n",
       "    <tr>\n",
       "      <th>8802</th>\n",
       "      <td>2019-11-20</td>\n",
       "      <td>2007</td>\n",
       "      <td>20</td>\n",
       "      <td>2019</td>\n",
       "      <td>11</td>\n",
       "      <td>0</td>\n",
       "      <td>0</td>\n",
       "      <td>0</td>\n",
       "      <td>0</td>\n",
       "      <td>0</td>\n",
       "      <td>1</td>\n",
       "      <td>0</td>\n",
       "      <td>0</td>\n",
       "      <td>0</td>\n",
       "      <td>0</td>\n",
       "      <td>0</td>\n",
       "      <td>0</td>\n",
       "      <td>0</td>\n",
       "      <td>0</td>\n",
       "    </tr>\n",
       "    <tr>\n",
       "      <th>8803</th>\n",
       "      <td>2019-07-01</td>\n",
       "      <td>2018</td>\n",
       "      <td>1</td>\n",
       "      <td>2019</td>\n",
       "      <td>7</td>\n",
       "      <td>0</td>\n",
       "      <td>0</td>\n",
       "      <td>0</td>\n",
       "      <td>0</td>\n",
       "      <td>0</td>\n",
       "      <td>0</td>\n",
       "      <td>0</td>\n",
       "      <td>0</td>\n",
       "      <td>0</td>\n",
       "      <td>0</td>\n",
       "      <td>0</td>\n",
       "      <td>1</td>\n",
       "      <td>0</td>\n",
       "      <td>0</td>\n",
       "    </tr>\n",
       "    <tr>\n",
       "      <th>8804</th>\n",
       "      <td>2019-11-01</td>\n",
       "      <td>2009</td>\n",
       "      <td>1</td>\n",
       "      <td>2019</td>\n",
       "      <td>11</td>\n",
       "      <td>0</td>\n",
       "      <td>0</td>\n",
       "      <td>0</td>\n",
       "      <td>0</td>\n",
       "      <td>0</td>\n",
       "      <td>1</td>\n",
       "      <td>0</td>\n",
       "      <td>0</td>\n",
       "      <td>0</td>\n",
       "      <td>0</td>\n",
       "      <td>0</td>\n",
       "      <td>0</td>\n",
       "      <td>0</td>\n",
       "      <td>0</td>\n",
       "    </tr>\n",
       "    <tr>\n",
       "      <th>8805</th>\n",
       "      <td>2020-01-11</td>\n",
       "      <td>2006</td>\n",
       "      <td>11</td>\n",
       "      <td>2020</td>\n",
       "      <td>1</td>\n",
       "      <td>0</td>\n",
       "      <td>0</td>\n",
       "      <td>0</td>\n",
       "      <td>1</td>\n",
       "      <td>0</td>\n",
       "      <td>0</td>\n",
       "      <td>0</td>\n",
       "      <td>0</td>\n",
       "      <td>0</td>\n",
       "      <td>0</td>\n",
       "      <td>0</td>\n",
       "      <td>0</td>\n",
       "      <td>0</td>\n",
       "      <td>0</td>\n",
       "    </tr>\n",
       "    <tr>\n",
       "      <th>8806</th>\n",
       "      <td>2019-03-02</td>\n",
       "      <td>2015</td>\n",
       "      <td>2</td>\n",
       "      <td>2019</td>\n",
       "      <td>3</td>\n",
       "      <td>0</td>\n",
       "      <td>0</td>\n",
       "      <td>0</td>\n",
       "      <td>0</td>\n",
       "      <td>0</td>\n",
       "      <td>0</td>\n",
       "      <td>1</td>\n",
       "      <td>0</td>\n",
       "      <td>0</td>\n",
       "      <td>0</td>\n",
       "      <td>0</td>\n",
       "      <td>0</td>\n",
       "      <td>0</td>\n",
       "      <td>0</td>\n",
       "    </tr>\n",
       "  </tbody>\n",
       "</table>\n",
       "<p>8790 rows × 19 columns</p>\n",
       "</div>"
      ],
      "text/plain": [
       "     date_added  release_year  day_added  year_added  month_added  rating_G  \\\n",
       "0    2021-09-25          2020         25        2021            9         0   \n",
       "1    2021-09-24          2021         24        2021            9         0   \n",
       "2    2021-09-24          2021         24        2021            9         0   \n",
       "3    2021-09-24          2021         24        2021            9         0   \n",
       "4    2021-09-24          2021         24        2021            9         0   \n",
       "...         ...           ...        ...         ...          ...       ...   \n",
       "8802 2019-11-20          2007         20        2019           11         0   \n",
       "8803 2019-07-01          2018          1        2019            7         0   \n",
       "8804 2019-11-01          2009          1        2019           11         0   \n",
       "8805 2020-01-11          2006         11        2020            1         0   \n",
       "8806 2019-03-02          2015          2        2019            3         0   \n",
       "\n",
       "      rating_NC-17  rating_NR  rating_PG  rating_PG-13  rating_R  \\\n",
       "0                0          0          0             1         0   \n",
       "1                0          0          0             0         0   \n",
       "2                0          0          0             0         0   \n",
       "3                0          0          0             0         0   \n",
       "4                0          0          0             0         0   \n",
       "...            ...        ...        ...           ...       ...   \n",
       "8802             0          0          0             0         1   \n",
       "8803             0          0          0             0         0   \n",
       "8804             0          0          0             0         1   \n",
       "8805             0          0          1             0         0   \n",
       "8806             0          0          0             0         0   \n",
       "\n",
       "      rating_TV-14  rating_TV-G  rating_TV-MA  rating_TV-PG  rating_TV-Y  \\\n",
       "0                0            0             0             0            0   \n",
       "1                0            0             1             0            0   \n",
       "2                0            0             1             0            0   \n",
       "3                0            0             1             0            0   \n",
       "4                0            0             1             0            0   \n",
       "...            ...          ...           ...           ...          ...   \n",
       "8802             0            0             0             0            0   \n",
       "8803             0            0             0             0            0   \n",
       "8804             0            0             0             0            0   \n",
       "8805             0            0             0             0            0   \n",
       "8806             1            0             0             0            0   \n",
       "\n",
       "      rating_TV-Y7  rating_TV-Y7-FV  rating_UR  \n",
       "0                0                0          0  \n",
       "1                0                0          0  \n",
       "2                0                0          0  \n",
       "3                0                0          0  \n",
       "4                0                0          0  \n",
       "...            ...              ...        ...  \n",
       "8802             0                0          0  \n",
       "8803             1                0          0  \n",
       "8804             0                0          0  \n",
       "8805             0                0          0  \n",
       "8806             0                0          0  \n",
       "\n",
       "[8790 rows x 19 columns]"
      ]
     },
     "execution_count": 24,
     "metadata": {},
     "output_type": "execute_result"
    }
   ],
   "source": [
    "x = netflix_df.drop(['type_TV_Show' , 'type_Movie'], axis = 1)\n",
    "x"
   ]
  },
  {
   "cell_type": "code",
   "execution_count": 25,
   "id": "9f634c43",
   "metadata": {
    "scrolled": true
   },
   "outputs": [],
   "source": [
    "y = netflix_df.type_Movie\n",
    "z = netflix_df.type_TV_Show"
   ]
  },
  {
   "cell_type": "code",
   "execution_count": 26,
   "id": "46bd7ae5",
   "metadata": {},
   "outputs": [],
   "source": [
    "x = x.drop(['date_added'] , axis = 1) # Drop date added column "
   ]
  },
  {
   "cell_type": "code",
   "execution_count": 27,
   "id": "da809f36",
   "metadata": {},
   "outputs": [
    {
     "name": "stdout",
     "output_type": "stream",
     "text": [
      "<class 'pandas.core.frame.DataFrame'>\n",
      "Int64Index: 8790 entries, 0 to 8806\n",
      "Data columns (total 18 columns):\n",
      " #   Column           Non-Null Count  Dtype\n",
      "---  ------           --------------  -----\n",
      " 0   release_year     8790 non-null   int64\n",
      " 1   day_added        8790 non-null   int64\n",
      " 2   year_added       8790 non-null   int64\n",
      " 3   month_added      8790 non-null   int64\n",
      " 4   rating_G         8790 non-null   uint8\n",
      " 5   rating_NC-17     8790 non-null   uint8\n",
      " 6   rating_NR        8790 non-null   uint8\n",
      " 7   rating_PG        8790 non-null   uint8\n",
      " 8   rating_PG-13     8790 non-null   uint8\n",
      " 9   rating_R         8790 non-null   uint8\n",
      " 10  rating_TV-14     8790 non-null   uint8\n",
      " 11  rating_TV-G      8790 non-null   uint8\n",
      " 12  rating_TV-MA     8790 non-null   uint8\n",
      " 13  rating_TV-PG     8790 non-null   uint8\n",
      " 14  rating_TV-Y      8790 non-null   uint8\n",
      " 15  rating_TV-Y7     8790 non-null   uint8\n",
      " 16  rating_TV-Y7-FV  8790 non-null   uint8\n",
      " 17  rating_UR        8790 non-null   uint8\n",
      "dtypes: int64(4), uint8(14)\n",
      "memory usage: 721.6 KB\n"
     ]
    }
   ],
   "source": [
    "x.info()"
   ]
  },
  {
   "cell_type": "markdown",
   "id": "460ac282",
   "metadata": {},
   "source": [
    "# Train test split"
   ]
  },
  {
   "cell_type": "code",
   "execution_count": 28,
   "id": "7a671ad3",
   "metadata": {},
   "outputs": [],
   "source": [
    "from sklearn.model_selection import train_test_split\n",
    "x_train,x_test,y_train,y_test,z_train,z_test = train_test_split(x,y,z, test_size=0.20, random_state=80)"
   ]
  },
  {
   "cell_type": "code",
   "execution_count": 29,
   "id": "8432315c",
   "metadata": {},
   "outputs": [
    {
     "name": "stdout",
     "output_type": "stream",
     "text": [
      "(7032, 18)\n",
      "(1758, 18)\n",
      "(7032,)\n",
      "(1758,)\n",
      "(7032,)\n",
      "(1758,)\n"
     ]
    }
   ],
   "source": [
    "print(x_train.shape)\n",
    "print(x_test.shape)\n",
    "print(y_train.shape)\n",
    "print(y_test.shape)\n",
    "print(z_train.shape)\n",
    "print(z_test.shape)\n"
   ]
  },
  {
   "cell_type": "code",
   "execution_count": 30,
   "id": "69d8271b",
   "metadata": {},
   "outputs": [
    {
     "data": {
      "text/html": [
       "<div>\n",
       "<style scoped>\n",
       "    .dataframe tbody tr th:only-of-type {\n",
       "        vertical-align: middle;\n",
       "    }\n",
       "\n",
       "    .dataframe tbody tr th {\n",
       "        vertical-align: top;\n",
       "    }\n",
       "\n",
       "    .dataframe thead th {\n",
       "        text-align: right;\n",
       "    }\n",
       "</style>\n",
       "<table border=\"1\" class=\"dataframe\">\n",
       "  <thead>\n",
       "    <tr style=\"text-align: right;\">\n",
       "      <th></th>\n",
       "      <th>release_year</th>\n",
       "      <th>day_added</th>\n",
       "      <th>year_added</th>\n",
       "      <th>month_added</th>\n",
       "      <th>rating_G</th>\n",
       "      <th>rating_NC-17</th>\n",
       "      <th>rating_NR</th>\n",
       "      <th>rating_PG</th>\n",
       "      <th>rating_PG-13</th>\n",
       "      <th>rating_R</th>\n",
       "      <th>rating_TV-14</th>\n",
       "      <th>rating_TV-G</th>\n",
       "      <th>rating_TV-MA</th>\n",
       "      <th>rating_TV-PG</th>\n",
       "      <th>rating_TV-Y</th>\n",
       "      <th>rating_TV-Y7</th>\n",
       "      <th>rating_TV-Y7-FV</th>\n",
       "      <th>rating_UR</th>\n",
       "    </tr>\n",
       "  </thead>\n",
       "  <tbody>\n",
       "    <tr>\n",
       "      <th>8148</th>\n",
       "      <td>1993</td>\n",
       "      <td>28</td>\n",
       "      <td>2019</td>\n",
       "      <td>6</td>\n",
       "      <td>0</td>\n",
       "      <td>0</td>\n",
       "      <td>0</td>\n",
       "      <td>0</td>\n",
       "      <td>0</td>\n",
       "      <td>0</td>\n",
       "      <td>0</td>\n",
       "      <td>0</td>\n",
       "      <td>1</td>\n",
       "      <td>0</td>\n",
       "      <td>0</td>\n",
       "      <td>0</td>\n",
       "      <td>0</td>\n",
       "      <td>0</td>\n",
       "    </tr>\n",
       "    <tr>\n",
       "      <th>212</th>\n",
       "      <td>2016</td>\n",
       "      <td>27</td>\n",
       "      <td>2021</td>\n",
       "      <td>8</td>\n",
       "      <td>0</td>\n",
       "      <td>0</td>\n",
       "      <td>0</td>\n",
       "      <td>0</td>\n",
       "      <td>0</td>\n",
       "      <td>0</td>\n",
       "      <td>0</td>\n",
       "      <td>0</td>\n",
       "      <td>1</td>\n",
       "      <td>0</td>\n",
       "      <td>0</td>\n",
       "      <td>0</td>\n",
       "      <td>0</td>\n",
       "      <td>0</td>\n",
       "    </tr>\n",
       "    <tr>\n",
       "      <th>2134</th>\n",
       "      <td>2020</td>\n",
       "      <td>14</td>\n",
       "      <td>2020</td>\n",
       "      <td>8</td>\n",
       "      <td>0</td>\n",
       "      <td>0</td>\n",
       "      <td>0</td>\n",
       "      <td>0</td>\n",
       "      <td>0</td>\n",
       "      <td>0</td>\n",
       "      <td>0</td>\n",
       "      <td>0</td>\n",
       "      <td>1</td>\n",
       "      <td>0</td>\n",
       "      <td>0</td>\n",
       "      <td>0</td>\n",
       "      <td>0</td>\n",
       "      <td>0</td>\n",
       "    </tr>\n",
       "    <tr>\n",
       "      <th>242</th>\n",
       "      <td>2021</td>\n",
       "      <td>20</td>\n",
       "      <td>2021</td>\n",
       "      <td>8</td>\n",
       "      <td>0</td>\n",
       "      <td>0</td>\n",
       "      <td>0</td>\n",
       "      <td>0</td>\n",
       "      <td>0</td>\n",
       "      <td>0</td>\n",
       "      <td>0</td>\n",
       "      <td>0</td>\n",
       "      <td>1</td>\n",
       "      <td>0</td>\n",
       "      <td>0</td>\n",
       "      <td>0</td>\n",
       "      <td>0</td>\n",
       "      <td>0</td>\n",
       "    </tr>\n",
       "    <tr>\n",
       "      <th>7873</th>\n",
       "      <td>2011</td>\n",
       "      <td>1</td>\n",
       "      <td>2017</td>\n",
       "      <td>11</td>\n",
       "      <td>0</td>\n",
       "      <td>0</td>\n",
       "      <td>0</td>\n",
       "      <td>0</td>\n",
       "      <td>0</td>\n",
       "      <td>0</td>\n",
       "      <td>0</td>\n",
       "      <td>0</td>\n",
       "      <td>1</td>\n",
       "      <td>0</td>\n",
       "      <td>0</td>\n",
       "      <td>0</td>\n",
       "      <td>0</td>\n",
       "      <td>0</td>\n",
       "    </tr>\n",
       "    <tr>\n",
       "      <th>...</th>\n",
       "      <td>...</td>\n",
       "      <td>...</td>\n",
       "      <td>...</td>\n",
       "      <td>...</td>\n",
       "      <td>...</td>\n",
       "      <td>...</td>\n",
       "      <td>...</td>\n",
       "      <td>...</td>\n",
       "      <td>...</td>\n",
       "      <td>...</td>\n",
       "      <td>...</td>\n",
       "      <td>...</td>\n",
       "      <td>...</td>\n",
       "      <td>...</td>\n",
       "      <td>...</td>\n",
       "      <td>...</td>\n",
       "      <td>...</td>\n",
       "      <td>...</td>\n",
       "    </tr>\n",
       "    <tr>\n",
       "      <th>8731</th>\n",
       "      <td>2015</td>\n",
       "      <td>23</td>\n",
       "      <td>2017</td>\n",
       "      <td>10</td>\n",
       "      <td>0</td>\n",
       "      <td>0</td>\n",
       "      <td>0</td>\n",
       "      <td>0</td>\n",
       "      <td>0</td>\n",
       "      <td>1</td>\n",
       "      <td>0</td>\n",
       "      <td>0</td>\n",
       "      <td>0</td>\n",
       "      <td>0</td>\n",
       "      <td>0</td>\n",
       "      <td>0</td>\n",
       "      <td>0</td>\n",
       "      <td>0</td>\n",
       "    </tr>\n",
       "    <tr>\n",
       "      <th>2259</th>\n",
       "      <td>2018</td>\n",
       "      <td>8</td>\n",
       "      <td>2020</td>\n",
       "      <td>7</td>\n",
       "      <td>0</td>\n",
       "      <td>0</td>\n",
       "      <td>0</td>\n",
       "      <td>0</td>\n",
       "      <td>0</td>\n",
       "      <td>1</td>\n",
       "      <td>0</td>\n",
       "      <td>0</td>\n",
       "      <td>0</td>\n",
       "      <td>0</td>\n",
       "      <td>0</td>\n",
       "      <td>0</td>\n",
       "      <td>0</td>\n",
       "      <td>0</td>\n",
       "    </tr>\n",
       "    <tr>\n",
       "      <th>2982</th>\n",
       "      <td>2020</td>\n",
       "      <td>29</td>\n",
       "      <td>2020</td>\n",
       "      <td>1</td>\n",
       "      <td>0</td>\n",
       "      <td>0</td>\n",
       "      <td>0</td>\n",
       "      <td>0</td>\n",
       "      <td>0</td>\n",
       "      <td>0</td>\n",
       "      <td>1</td>\n",
       "      <td>0</td>\n",
       "      <td>0</td>\n",
       "      <td>0</td>\n",
       "      <td>0</td>\n",
       "      <td>0</td>\n",
       "      <td>0</td>\n",
       "      <td>0</td>\n",
       "    </tr>\n",
       "    <tr>\n",
       "      <th>5308</th>\n",
       "      <td>2016</td>\n",
       "      <td>1</td>\n",
       "      <td>2017</td>\n",
       "      <td>9</td>\n",
       "      <td>0</td>\n",
       "      <td>0</td>\n",
       "      <td>0</td>\n",
       "      <td>0</td>\n",
       "      <td>0</td>\n",
       "      <td>0</td>\n",
       "      <td>0</td>\n",
       "      <td>0</td>\n",
       "      <td>1</td>\n",
       "      <td>0</td>\n",
       "      <td>0</td>\n",
       "      <td>0</td>\n",
       "      <td>0</td>\n",
       "      <td>0</td>\n",
       "    </tr>\n",
       "    <tr>\n",
       "      <th>1199</th>\n",
       "      <td>2012</td>\n",
       "      <td>16</td>\n",
       "      <td>2021</td>\n",
       "      <td>3</td>\n",
       "      <td>0</td>\n",
       "      <td>0</td>\n",
       "      <td>0</td>\n",
       "      <td>0</td>\n",
       "      <td>0</td>\n",
       "      <td>1</td>\n",
       "      <td>0</td>\n",
       "      <td>0</td>\n",
       "      <td>0</td>\n",
       "      <td>0</td>\n",
       "      <td>0</td>\n",
       "      <td>0</td>\n",
       "      <td>0</td>\n",
       "      <td>0</td>\n",
       "    </tr>\n",
       "  </tbody>\n",
       "</table>\n",
       "<p>7032 rows × 18 columns</p>\n",
       "</div>"
      ],
      "text/plain": [
       "      release_year  day_added  year_added  month_added  rating_G  \\\n",
       "8148          1993         28        2019            6         0   \n",
       "212           2016         27        2021            8         0   \n",
       "2134          2020         14        2020            8         0   \n",
       "242           2021         20        2021            8         0   \n",
       "7873          2011          1        2017           11         0   \n",
       "...            ...        ...         ...          ...       ...   \n",
       "8731          2015         23        2017           10         0   \n",
       "2259          2018          8        2020            7         0   \n",
       "2982          2020         29        2020            1         0   \n",
       "5308          2016          1        2017            9         0   \n",
       "1199          2012         16        2021            3         0   \n",
       "\n",
       "      rating_NC-17  rating_NR  rating_PG  rating_PG-13  rating_R  \\\n",
       "8148             0          0          0             0         0   \n",
       "212              0          0          0             0         0   \n",
       "2134             0          0          0             0         0   \n",
       "242              0          0          0             0         0   \n",
       "7873             0          0          0             0         0   \n",
       "...            ...        ...        ...           ...       ...   \n",
       "8731             0          0          0             0         1   \n",
       "2259             0          0          0             0         1   \n",
       "2982             0          0          0             0         0   \n",
       "5308             0          0          0             0         0   \n",
       "1199             0          0          0             0         1   \n",
       "\n",
       "      rating_TV-14  rating_TV-G  rating_TV-MA  rating_TV-PG  rating_TV-Y  \\\n",
       "8148             0            0             1             0            0   \n",
       "212              0            0             1             0            0   \n",
       "2134             0            0             1             0            0   \n",
       "242              0            0             1             0            0   \n",
       "7873             0            0             1             0            0   \n",
       "...            ...          ...           ...           ...          ...   \n",
       "8731             0            0             0             0            0   \n",
       "2259             0            0             0             0            0   \n",
       "2982             1            0             0             0            0   \n",
       "5308             0            0             1             0            0   \n",
       "1199             0            0             0             0            0   \n",
       "\n",
       "      rating_TV-Y7  rating_TV-Y7-FV  rating_UR  \n",
       "8148             0                0          0  \n",
       "212              0                0          0  \n",
       "2134             0                0          0  \n",
       "242              0                0          0  \n",
       "7873             0                0          0  \n",
       "...            ...              ...        ...  \n",
       "8731             0                0          0  \n",
       "2259             0                0          0  \n",
       "2982             0                0          0  \n",
       "5308             0                0          0  \n",
       "1199             0                0          0  \n",
       "\n",
       "[7032 rows x 18 columns]"
      ]
     },
     "execution_count": 30,
     "metadata": {},
     "output_type": "execute_result"
    }
   ],
   "source": [
    "x_train"
   ]
  },
  {
   "cell_type": "markdown",
   "id": "329367e2",
   "metadata": {},
   "source": [
    "#### feature scaling"
   ]
  },
  {
   "cell_type": "code",
   "execution_count": 31,
   "id": "bfb030e4",
   "metadata": {},
   "outputs": [],
   "source": [
    "from sklearn.preprocessing import StandardScaler\n",
    "scaler = StandardScaler()\n",
    "x_train_scaled = scaler.fit_transform(x_train)\n",
    "x_test_scaled = scaler.transform(x_test)"
   ]
  },
  {
   "cell_type": "code",
   "execution_count": 32,
   "id": "6ff80c8b",
   "metadata": {
    "scrolled": true
   },
   "outputs": [
    {
     "data": {
      "text/plain": [
       "array([[-0.24433214,  0.75108618, -0.55607027, ..., -0.19633325,\n",
       "        -0.02667473,  0.        ],\n",
       "       [ 0.32136771,  1.6613298 , -0.55607027, ..., -0.19633325,\n",
       "        -0.02667473,  0.        ],\n",
       "       [ 0.54764766, -1.06940105,  1.34921775, ..., -0.19633325,\n",
       "        -0.02667473,  0.        ],\n",
       "       ...,\n",
       "       [-1.26259187,  0.24539528,  0.07902574, ..., -0.19633325,\n",
       "        -0.02667473,  0.        ],\n",
       "       [ 0.32136771,  1.1556389 , -0.55607027, ..., -0.19633325,\n",
       "        -0.02667473,  0.        ],\n",
       "       [-0.24433214,  0.24539528, -1.82626228, ..., -0.19633325,\n",
       "        -0.02667473,  0.        ]])"
      ]
     },
     "execution_count": 32,
     "metadata": {},
     "output_type": "execute_result"
    }
   ],
   "source": [
    "x_test_scaled"
   ]
  },
  {
   "cell_type": "code",
   "execution_count": 33,
   "id": "3f16fd33",
   "metadata": {},
   "outputs": [
    {
     "data": {
      "text/plain": [
       "array([[-2.39399158,  1.56019162,  0.07902574, ..., -0.19633325,\n",
       "        -0.02667473,  0.        ],\n",
       "       [ 0.20822774,  1.45905344,  1.34921775, ..., -0.19633325,\n",
       "        -0.02667473,  0.        ],\n",
       "       [ 0.66078763,  0.1442571 ,  0.71412175, ..., -0.19633325,\n",
       "        -0.02667473,  0.        ],\n",
       "       ...,\n",
       "       [ 0.66078763,  1.6613298 ,  0.71412175, ..., -0.19633325,\n",
       "        -0.02667473,  0.        ],\n",
       "       [ 0.20822774, -1.17053923, -1.19116627, ..., -0.19633325,\n",
       "        -0.02667473,  0.        ],\n",
       "       [-0.24433214,  0.34653346,  1.34921775, ..., -0.19633325,\n",
       "        -0.02667473,  0.        ]])"
      ]
     },
     "execution_count": 33,
     "metadata": {},
     "output_type": "execute_result"
    }
   ],
   "source": [
    "x_train_scaled"
   ]
  },
  {
   "cell_type": "markdown",
   "id": "2ac48902",
   "metadata": {},
   "source": [
    "# Modeling"
   ]
  },
  {
   "cell_type": "markdown",
   "id": "a3b87f22",
   "metadata": {},
   "source": [
    "#### I'll try 4 diffrent type "
   ]
  },
  {
   "cell_type": "markdown",
   "id": "36009033",
   "metadata": {},
   "source": [
    "## Apply logistic regression"
   ]
  },
  {
   "cell_type": "code",
   "execution_count": 34,
   "id": "cb53dd15",
   "metadata": {},
   "outputs": [
    {
     "data": {
      "text/plain": [
       "LogisticRegression()"
      ]
     },
     "execution_count": 34,
     "metadata": {},
     "output_type": "execute_result"
    }
   ],
   "source": [
    "from sklearn.linear_model import LogisticRegression\n",
    "\n",
    "lr = LogisticRegression()\n",
    "lr.fit(x_train_scaled, y_train, z_train)\n"
   ]
  },
  {
   "cell_type": "code",
   "execution_count": 35,
   "id": "f6694cfc",
   "metadata": {},
   "outputs": [],
   "source": [
    "y_pred = lr.predict(x_test_scaled)\n",
    "z_pred = lr.predict(x_test_scaled)"
   ]
  },
  {
   "cell_type": "code",
   "execution_count": 36,
   "id": "ad6b8c1d",
   "metadata": {},
   "outputs": [
    {
     "data": {
      "text/plain": [
       "array([0, 0, 0, ..., 0, 0, 0], dtype=uint8)"
      ]
     },
     "execution_count": 36,
     "metadata": {},
     "output_type": "execute_result"
    }
   ],
   "source": [
    "y_pred"
   ]
  },
  {
   "cell_type": "code",
   "execution_count": 37,
   "id": "1a3526c9",
   "metadata": {},
   "outputs": [
    {
     "data": {
      "text/plain": [
       "array([0, 0, 0, ..., 0, 0, 0], dtype=uint8)"
      ]
     },
     "execution_count": 37,
     "metadata": {},
     "output_type": "execute_result"
    }
   ],
   "source": [
    "z_pred"
   ]
  },
  {
   "cell_type": "code",
   "execution_count": 38,
   "id": "3a7fbb37",
   "metadata": {},
   "outputs": [
    {
     "name": "stdout",
     "output_type": "stream",
     "text": [
      "4280    1\n",
      "7211    1\n",
      "1106    1\n",
      "8433    1\n",
      "5449    1\n",
      "       ..\n",
      "5069    0\n",
      "5843    0\n",
      "3914    1\n",
      "6678    0\n",
      "8800    0\n",
      "Name: type_Movie, Length: 1758, dtype: uint8\n"
     ]
    }
   ],
   "source": [
    "print(y_test)"
   ]
  },
  {
   "cell_type": "code",
   "execution_count": 39,
   "id": "22c35f36",
   "metadata": {},
   "outputs": [
    {
     "data": {
      "text/plain": [
       "4280    0\n",
       "7211    0\n",
       "1106    0\n",
       "8433    0\n",
       "5449    0\n",
       "       ..\n",
       "5069    1\n",
       "5843    1\n",
       "3914    0\n",
       "6678    1\n",
       "8800    1\n",
       "Name: type_TV_Show, Length: 1758, dtype: uint8"
      ]
     },
     "execution_count": 39,
     "metadata": {},
     "output_type": "execute_result"
    }
   ],
   "source": [
    "z_test"
   ]
  },
  {
   "cell_type": "markdown",
   "id": "a592b600",
   "metadata": {},
   "source": [
    "### Model evaluation for logistic regression"
   ]
  },
  {
   "cell_type": "code",
   "execution_count": 40,
   "id": "81e39584",
   "metadata": {
    "scrolled": false
   },
   "outputs": [
    {
     "name": "stdout",
     "output_type": "stream",
     "text": [
      "              precision    recall  f1-score   support\n",
      "\n",
      "           0       1.00      0.31      0.47      1758\n",
      "           1       0.00      0.00      0.00         0\n",
      "\n",
      "    accuracy                           0.31      1758\n",
      "   macro avg       0.50      0.16      0.24      1758\n",
      "weighted avg       1.00      0.31      0.47      1758\n",
      "\n",
      "              precision    recall  f1-score   support\n",
      "\n",
      "           0       1.00      0.69      0.82      1758\n",
      "           1       0.00      0.00      0.00         0\n",
      "\n",
      "    accuracy                           0.69      1758\n",
      "   macro avg       0.50      0.34      0.41      1758\n",
      "weighted avg       1.00      0.69      0.82      1758\n",
      "\n"
     ]
    },
    {
     "name": "stderr",
     "output_type": "stream",
     "text": [
      "C:\\Users\\nadiyah.alotaibi\\Anaconda3\\lib\\site-packages\\sklearn\\metrics\\_classification.py:1248: UndefinedMetricWarning: Recall and F-score are ill-defined and being set to 0.0 in labels with no true samples. Use `zero_division` parameter to control this behavior.\n",
      "  _warn_prf(average, modifier, msg_start, len(result))\n",
      "C:\\Users\\nadiyah.alotaibi\\Anaconda3\\lib\\site-packages\\sklearn\\metrics\\_classification.py:1248: UndefinedMetricWarning: Recall and F-score are ill-defined and being set to 0.0 in labels with no true samples. Use `zero_division` parameter to control this behavior.\n",
      "  _warn_prf(average, modifier, msg_start, len(result))\n",
      "C:\\Users\\nadiyah.alotaibi\\Anaconda3\\lib\\site-packages\\sklearn\\metrics\\_classification.py:1248: UndefinedMetricWarning: Recall and F-score are ill-defined and being set to 0.0 in labels with no true samples. Use `zero_division` parameter to control this behavior.\n",
      "  _warn_prf(average, modifier, msg_start, len(result))\n",
      "C:\\Users\\nadiyah.alotaibi\\Anaconda3\\lib\\site-packages\\sklearn\\metrics\\_classification.py:1248: UndefinedMetricWarning: Recall and F-score are ill-defined and being set to 0.0 in labels with no true samples. Use `zero_division` parameter to control this behavior.\n",
      "  _warn_prf(average, modifier, msg_start, len(result))\n",
      "C:\\Users\\nadiyah.alotaibi\\Anaconda3\\lib\\site-packages\\sklearn\\metrics\\_classification.py:1248: UndefinedMetricWarning: Recall and F-score are ill-defined and being set to 0.0 in labels with no true samples. Use `zero_division` parameter to control this behavior.\n",
      "  _warn_prf(average, modifier, msg_start, len(result))\n",
      "C:\\Users\\nadiyah.alotaibi\\Anaconda3\\lib\\site-packages\\sklearn\\metrics\\_classification.py:1248: UndefinedMetricWarning: Recall and F-score are ill-defined and being set to 0.0 in labels with no true samples. Use `zero_division` parameter to control this behavior.\n",
      "  _warn_prf(average, modifier, msg_start, len(result))\n"
     ]
    }
   ],
   "source": [
    "from sklearn.metrics import classification_report\n",
    "\n",
    "print(classification_report(y_pred,y_test))\n",
    "print(classification_report( z_pred, z_test))"
   ]
  },
  {
   "cell_type": "code",
   "execution_count": 51,
   "id": "80d52f3a",
   "metadata": {},
   "outputs": [
    {
     "data": {
      "text/plain": [
       "1.0"
      ]
     },
     "execution_count": 51,
     "metadata": {},
     "output_type": "execute_result"
    }
   ],
   "source": [
    "lr.score(x_train_scaled,y_train,z_train)"
   ]
  },
  {
   "cell_type": "code",
   "execution_count": 57,
   "id": "8dcfe26c",
   "metadata": {},
   "outputs": [
    {
     "data": {
      "text/plain": [
       "1.0"
      ]
     },
     "execution_count": 57,
     "metadata": {},
     "output_type": "execute_result"
    }
   ],
   "source": [
    "lr.score(x_test_scaled,y_test,z_test)"
   ]
  },
  {
   "cell_type": "markdown",
   "id": "8a7ecb64",
   "metadata": {},
   "source": [
    "## Apply Random Forst"
   ]
  },
  {
   "cell_type": "code",
   "execution_count": 42,
   "id": "dcb7fc00",
   "metadata": {},
   "outputs": [
    {
     "data": {
      "text/plain": [
       "RandomForestClassifier()"
      ]
     },
     "execution_count": 42,
     "metadata": {},
     "output_type": "execute_result"
    }
   ],
   "source": [
    "from sklearn.ensemble import RandomForestClassifier\n",
    "rf= RandomForestClassifier()\n",
    "rf.fit(x_train_scaled,y_train,z_train)"
   ]
  },
  {
   "cell_type": "code",
   "execution_count": 43,
   "id": "7ab7ac84",
   "metadata": {},
   "outputs": [],
   "source": [
    "y_pred_rf= rf.predict(x_test_scaled)\n",
    "z_pred_rf= rf.predict(x_test_scaled)"
   ]
  },
  {
   "cell_type": "markdown",
   "id": "52f1e867",
   "metadata": {},
   "source": [
    "### Model evaluation for Random Forst"
   ]
  },
  {
   "cell_type": "code",
   "execution_count": 44,
   "id": "dca70ac7",
   "metadata": {},
   "outputs": [
    {
     "name": "stdout",
     "output_type": "stream",
     "text": [
      "              precision    recall  f1-score   support\n",
      "\n",
      "           0       1.00      0.31      0.47      1758\n",
      "           1       0.00      0.00      0.00         0\n",
      "\n",
      "    accuracy                           0.31      1758\n",
      "   macro avg       0.50      0.16      0.24      1758\n",
      "weighted avg       1.00      0.31      0.47      1758\n",
      "\n",
      "              precision    recall  f1-score   support\n",
      "\n",
      "           0       1.00      0.69      0.82      1758\n",
      "           1       0.00      0.00      0.00         0\n",
      "\n",
      "    accuracy                           0.69      1758\n",
      "   macro avg       0.50      0.34      0.41      1758\n",
      "weighted avg       1.00      0.69      0.82      1758\n",
      "\n"
     ]
    },
    {
     "name": "stderr",
     "output_type": "stream",
     "text": [
      "C:\\Users\\nadiyah.alotaibi\\Anaconda3\\lib\\site-packages\\sklearn\\metrics\\_classification.py:1248: UndefinedMetricWarning: Recall and F-score are ill-defined and being set to 0.0 in labels with no true samples. Use `zero_division` parameter to control this behavior.\n",
      "  _warn_prf(average, modifier, msg_start, len(result))\n",
      "C:\\Users\\nadiyah.alotaibi\\Anaconda3\\lib\\site-packages\\sklearn\\metrics\\_classification.py:1248: UndefinedMetricWarning: Recall and F-score are ill-defined and being set to 0.0 in labels with no true samples. Use `zero_division` parameter to control this behavior.\n",
      "  _warn_prf(average, modifier, msg_start, len(result))\n",
      "C:\\Users\\nadiyah.alotaibi\\Anaconda3\\lib\\site-packages\\sklearn\\metrics\\_classification.py:1248: UndefinedMetricWarning: Recall and F-score are ill-defined and being set to 0.0 in labels with no true samples. Use `zero_division` parameter to control this behavior.\n",
      "  _warn_prf(average, modifier, msg_start, len(result))\n",
      "C:\\Users\\nadiyah.alotaibi\\Anaconda3\\lib\\site-packages\\sklearn\\metrics\\_classification.py:1248: UndefinedMetricWarning: Recall and F-score are ill-defined and being set to 0.0 in labels with no true samples. Use `zero_division` parameter to control this behavior.\n",
      "  _warn_prf(average, modifier, msg_start, len(result))\n",
      "C:\\Users\\nadiyah.alotaibi\\Anaconda3\\lib\\site-packages\\sklearn\\metrics\\_classification.py:1248: UndefinedMetricWarning: Recall and F-score are ill-defined and being set to 0.0 in labels with no true samples. Use `zero_division` parameter to control this behavior.\n",
      "  _warn_prf(average, modifier, msg_start, len(result))\n",
      "C:\\Users\\nadiyah.alotaibi\\Anaconda3\\lib\\site-packages\\sklearn\\metrics\\_classification.py:1248: UndefinedMetricWarning: Recall and F-score are ill-defined and being set to 0.0 in labels with no true samples. Use `zero_division` parameter to control this behavior.\n",
      "  _warn_prf(average, modifier, msg_start, len(result))\n"
     ]
    }
   ],
   "source": [
    "from sklearn.metrics import classification_report\n",
    "\n",
    "print(classification_report(y_pred_rf,y_test))\n",
    "print(classification_report( z_pred_rf, z_test))"
   ]
  },
  {
   "cell_type": "code",
   "execution_count": 52,
   "id": "9f2ddf8b",
   "metadata": {},
   "outputs": [
    {
     "data": {
      "text/plain": [
       "1.0"
      ]
     },
     "execution_count": 52,
     "metadata": {},
     "output_type": "execute_result"
    }
   ],
   "source": [
    "lr.score(x_train_scaled,y_train,z_train)"
   ]
  },
  {
   "cell_type": "code",
   "execution_count": 58,
   "id": "df104bc4",
   "metadata": {},
   "outputs": [
    {
     "data": {
      "text/plain": [
       "1.0"
      ]
     },
     "execution_count": 58,
     "metadata": {},
     "output_type": "execute_result"
    }
   ],
   "source": [
    "lr.score(x_test_scaled,y_test,z_test)"
   ]
  },
  {
   "cell_type": "markdown",
   "id": "d61dbd63",
   "metadata": {},
   "source": [
    "## Apply KNN "
   ]
  },
  {
   "cell_type": "code",
   "execution_count": 45,
   "id": "9a3148ba",
   "metadata": {},
   "outputs": [
    {
     "data": {
      "text/plain": [
       "KNeighborsClassifier(n_neighbors=10)"
      ]
     },
     "execution_count": 45,
     "metadata": {},
     "output_type": "execute_result"
    }
   ],
   "source": [
    "from sklearn.neighbors import KNeighborsClassifier\n",
    "knn = KNeighborsClassifier(n_neighbors = 10)\n",
    "knn.fit(x_train_scaled,y_train)\n",
    "knn.fit(x_train_scaled,z_train)"
   ]
  },
  {
   "cell_type": "code",
   "execution_count": 46,
   "id": "3f007d06",
   "metadata": {},
   "outputs": [],
   "source": [
    "y_pred_knn = knn.predict(x_test_scaled)\n",
    "z_pred_knn = knn.predict(x_test_scaled)"
   ]
  },
  {
   "cell_type": "markdown",
   "id": "8e1cbc19",
   "metadata": {},
   "source": [
    "### Model evaluation for KNN"
   ]
  },
  {
   "cell_type": "code",
   "execution_count": 47,
   "id": "2798e69a",
   "metadata": {},
   "outputs": [
    {
     "name": "stdout",
     "output_type": "stream",
     "text": [
      "              precision    recall  f1-score   support\n",
      "\n",
      "           0       0.74      0.27      0.40      1481\n",
      "           1       0.11      0.48      0.18       277\n",
      "\n",
      "    accuracy                           0.30      1758\n",
      "   macro avg       0.42      0.38      0.29      1758\n",
      "weighted avg       0.64      0.30      0.36      1758\n",
      "\n",
      "              precision    recall  f1-score   support\n",
      "\n",
      "           0       0.89      0.73      0.80      1481\n",
      "           1       0.26      0.52      0.35       277\n",
      "\n",
      "    accuracy                           0.70      1758\n",
      "   macro avg       0.58      0.62      0.58      1758\n",
      "weighted avg       0.79      0.70      0.73      1758\n",
      "\n"
     ]
    }
   ],
   "source": [
    "from sklearn.metrics import classification_report\n",
    "\n",
    "print(classification_report(y_pred_knn,y_test))\n",
    "print(classification_report(z_pred_knn,z_test))"
   ]
  },
  {
   "cell_type": "code",
   "execution_count": 53,
   "id": "b1e5703f",
   "metadata": {},
   "outputs": [
    {
     "data": {
      "text/plain": [
       "1.0"
      ]
     },
     "execution_count": 53,
     "metadata": {},
     "output_type": "execute_result"
    }
   ],
   "source": [
    "lr.score(x_train_scaled,y_train,z_train)"
   ]
  },
  {
   "cell_type": "code",
   "execution_count": 59,
   "id": "584a2922",
   "metadata": {},
   "outputs": [
    {
     "data": {
      "text/plain": [
       "1.0"
      ]
     },
     "execution_count": 59,
     "metadata": {},
     "output_type": "execute_result"
    }
   ],
   "source": [
    "lr.score(x_test_scaled,y_test,z_test)"
   ]
  },
  {
   "cell_type": "markdown",
   "id": "6e72564a",
   "metadata": {},
   "source": [
    "## Try Decision Tree"
   ]
  },
  {
   "cell_type": "code",
   "execution_count": 48,
   "id": "b14670a1",
   "metadata": {},
   "outputs": [
    {
     "data": {
      "text/plain": [
       "DecisionTreeClassifier()"
      ]
     },
     "execution_count": 48,
     "metadata": {},
     "output_type": "execute_result"
    }
   ],
   "source": [
    "from sklearn.tree import DecisionTreeClassifier\n",
    "dtree = DecisionTreeClassifier()\n",
    "dtree.fit(x_train,y_train,z_train)"
   ]
  },
  {
   "cell_type": "code",
   "execution_count": 49,
   "id": "788d2629",
   "metadata": {},
   "outputs": [],
   "source": [
    "y_pred_dt = dtree.predict(x_test_scaled)\n",
    "z_pred_dt = dtree.predict(x_test_scaled)"
   ]
  },
  {
   "cell_type": "markdown",
   "id": "01dd507e",
   "metadata": {},
   "source": [
    "### Model evaluation for Decision Tree"
   ]
  },
  {
   "cell_type": "code",
   "execution_count": 50,
   "id": "d04b11ab",
   "metadata": {},
   "outputs": [
    {
     "name": "stdout",
     "output_type": "stream",
     "text": [
      "              precision    recall  f1-score   support\n",
      "\n",
      "           0       1.00      0.31      0.47      1758\n",
      "           1       0.00      0.00      0.00         0\n",
      "\n",
      "    accuracy                           0.31      1758\n",
      "   macro avg       0.50      0.16      0.24      1758\n",
      "weighted avg       1.00      0.31      0.47      1758\n",
      "\n",
      "              precision    recall  f1-score   support\n",
      "\n",
      "           0       1.00      0.69      0.82      1758\n",
      "           1       0.00      0.00      0.00         0\n",
      "\n",
      "    accuracy                           0.69      1758\n",
      "   macro avg       0.50      0.34      0.41      1758\n",
      "weighted avg       1.00      0.69      0.82      1758\n",
      "\n"
     ]
    },
    {
     "name": "stderr",
     "output_type": "stream",
     "text": [
      "C:\\Users\\nadiyah.alotaibi\\Anaconda3\\lib\\site-packages\\sklearn\\metrics\\_classification.py:1248: UndefinedMetricWarning: Recall and F-score are ill-defined and being set to 0.0 in labels with no true samples. Use `zero_division` parameter to control this behavior.\n",
      "  _warn_prf(average, modifier, msg_start, len(result))\n",
      "C:\\Users\\nadiyah.alotaibi\\Anaconda3\\lib\\site-packages\\sklearn\\metrics\\_classification.py:1248: UndefinedMetricWarning: Recall and F-score are ill-defined and being set to 0.0 in labels with no true samples. Use `zero_division` parameter to control this behavior.\n",
      "  _warn_prf(average, modifier, msg_start, len(result))\n",
      "C:\\Users\\nadiyah.alotaibi\\Anaconda3\\lib\\site-packages\\sklearn\\metrics\\_classification.py:1248: UndefinedMetricWarning: Recall and F-score are ill-defined and being set to 0.0 in labels with no true samples. Use `zero_division` parameter to control this behavior.\n",
      "  _warn_prf(average, modifier, msg_start, len(result))\n",
      "C:\\Users\\nadiyah.alotaibi\\Anaconda3\\lib\\site-packages\\sklearn\\metrics\\_classification.py:1248: UndefinedMetricWarning: Recall and F-score are ill-defined and being set to 0.0 in labels with no true samples. Use `zero_division` parameter to control this behavior.\n",
      "  _warn_prf(average, modifier, msg_start, len(result))\n",
      "C:\\Users\\nadiyah.alotaibi\\Anaconda3\\lib\\site-packages\\sklearn\\metrics\\_classification.py:1248: UndefinedMetricWarning: Recall and F-score are ill-defined and being set to 0.0 in labels with no true samples. Use `zero_division` parameter to control this behavior.\n",
      "  _warn_prf(average, modifier, msg_start, len(result))\n",
      "C:\\Users\\nadiyah.alotaibi\\Anaconda3\\lib\\site-packages\\sklearn\\metrics\\_classification.py:1248: UndefinedMetricWarning: Recall and F-score are ill-defined and being set to 0.0 in labels with no true samples. Use `zero_division` parameter to control this behavior.\n",
      "  _warn_prf(average, modifier, msg_start, len(result))\n"
     ]
    }
   ],
   "source": [
    "from sklearn.metrics import classification_report\n",
    "\n",
    "print(classification_report(y_pred_dt,y_test))\n",
    "print(classification_report(z_pred_dt,z_test))"
   ]
  },
  {
   "cell_type": "code",
   "execution_count": 54,
   "id": "e9b6d967",
   "metadata": {},
   "outputs": [
    {
     "data": {
      "text/plain": [
       "1.0"
      ]
     },
     "execution_count": 54,
     "metadata": {},
     "output_type": "execute_result"
    }
   ],
   "source": [
    "lr.score(x_train_scaled,y_train,z_train)"
   ]
  },
  {
   "cell_type": "code",
   "execution_count": 60,
   "id": "889985a1",
   "metadata": {},
   "outputs": [
    {
     "data": {
      "text/plain": [
       "1.0"
      ]
     },
     "execution_count": 60,
     "metadata": {},
     "output_type": "execute_result"
    }
   ],
   "source": [
    "lr.score(x_test_scaled,y_test,z_test)"
   ]
  },
  {
   "cell_type": "markdown",
   "id": "2ea599b3",
   "metadata": {},
   "source": [
    "# END"
   ]
  }
 ],
 "metadata": {
  "kernelspec": {
   "display_name": "Python 3 (ipykernel)",
   "language": "python",
   "name": "python3"
  },
  "language_info": {
   "codemirror_mode": {
    "name": "ipython",
    "version": 3
   },
   "file_extension": ".py",
   "mimetype": "text/x-python",
   "name": "python",
   "nbconvert_exporter": "python",
   "pygments_lexer": "ipython3",
   "version": "3.9.7"
  }
 },
 "nbformat": 4,
 "nbformat_minor": 5
}
